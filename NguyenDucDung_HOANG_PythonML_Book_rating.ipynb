{
 "cells": [
  {
   "cell_type": "code",
   "execution_count": 3,
   "id": "d40f0210",
   "metadata": {},
   "outputs": [],
   "source": [
    "import numpy as np\n",
    "import pandas as pd\n",
    "import matplotlib.pyplot as plt\n",
    "import seaborn as sns"
   ]
  },
  {
   "cell_type": "markdown",
   "id": "c7e914d9",
   "metadata": {},
   "source": [
    "#### Import database"
   ]
  },
  {
   "cell_type": "code",
   "execution_count": 12,
   "id": "ea81ea46",
   "metadata": {
    "scrolled": true
   },
   "outputs": [],
   "source": [
    "df = pd.read_csv(\"C:/Users/user/Desktop/Cours/Semaine Warm-up/Python/books.csv\",sep=\",\",index_col=\"bookID\")"
   ]
  },
  {
   "cell_type": "code",
   "execution_count": 13,
   "id": "afc361a8",
   "metadata": {},
   "outputs": [
    {
     "data": {
      "text/html": [
       "<div>\n",
       "<style scoped>\n",
       "    .dataframe tbody tr th:only-of-type {\n",
       "        vertical-align: middle;\n",
       "    }\n",
       "\n",
       "    .dataframe tbody tr th {\n",
       "        vertical-align: top;\n",
       "    }\n",
       "\n",
       "    .dataframe thead th {\n",
       "        text-align: right;\n",
       "    }\n",
       "</style>\n",
       "<table border=\"1\" class=\"dataframe\">\n",
       "  <thead>\n",
       "    <tr style=\"text-align: right;\">\n",
       "      <th></th>\n",
       "      <th>title</th>\n",
       "      <th>authors</th>\n",
       "      <th>average_rating</th>\n",
       "      <th>isbn</th>\n",
       "      <th>isbn13</th>\n",
       "      <th>language_code</th>\n",
       "      <th>num_pages</th>\n",
       "      <th>ratings_count</th>\n",
       "      <th>text_reviews_count</th>\n",
       "      <th>publication_date</th>\n",
       "      <th>publisher;;;</th>\n",
       "    </tr>\n",
       "    <tr>\n",
       "      <th>bookID</th>\n",
       "      <th></th>\n",
       "      <th></th>\n",
       "      <th></th>\n",
       "      <th></th>\n",
       "      <th></th>\n",
       "      <th></th>\n",
       "      <th></th>\n",
       "      <th></th>\n",
       "      <th></th>\n",
       "      <th></th>\n",
       "      <th></th>\n",
       "    </tr>\n",
       "  </thead>\n",
       "  <tbody>\n",
       "    <tr>\n",
       "      <th>1</th>\n",
       "      <td>Harry Potter and the Half-Blood Prince (Harry ...</td>\n",
       "      <td>J.K. Rowling/Mary GrandPré</td>\n",
       "      <td>4.57</td>\n",
       "      <td>0439785960</td>\n",
       "      <td>9.780440e+12</td>\n",
       "      <td>eng</td>\n",
       "      <td>652.0</td>\n",
       "      <td>2095690.0</td>\n",
       "      <td>27591.0</td>\n",
       "      <td>9/16/2006</td>\n",
       "      <td>Scholastic Inc.;;;</td>\n",
       "    </tr>\n",
       "    <tr>\n",
       "      <th>2</th>\n",
       "      <td>Harry Potter and the Order of the Phoenix (Har...</td>\n",
       "      <td>J.K. Rowling/Mary GrandPré</td>\n",
       "      <td>4.49</td>\n",
       "      <td>0439358078</td>\n",
       "      <td>9.780439e+12</td>\n",
       "      <td>eng</td>\n",
       "      <td>870.0</td>\n",
       "      <td>2153167.0</td>\n",
       "      <td>29221.0</td>\n",
       "      <td>9/1/2004</td>\n",
       "      <td>Scholastic Inc.;;;</td>\n",
       "    </tr>\n",
       "    <tr>\n",
       "      <th>4</th>\n",
       "      <td>Harry Potter and the Chamber of Secrets (Harry...</td>\n",
       "      <td>J.K. Rowling</td>\n",
       "      <td>4.42</td>\n",
       "      <td>0439554896</td>\n",
       "      <td>9.780440e+12</td>\n",
       "      <td>eng</td>\n",
       "      <td>352.0</td>\n",
       "      <td>6333.0</td>\n",
       "      <td>244.0</td>\n",
       "      <td>11/1/2003</td>\n",
       "      <td>Scholastic;;;</td>\n",
       "    </tr>\n",
       "    <tr>\n",
       "      <th>5</th>\n",
       "      <td>Harry Potter and the Prisoner of Azkaban (Harr...</td>\n",
       "      <td>J.K. Rowling/Mary GrandPré</td>\n",
       "      <td>4.56</td>\n",
       "      <td>043965548X</td>\n",
       "      <td>9.780440e+12</td>\n",
       "      <td>eng</td>\n",
       "      <td>435.0</td>\n",
       "      <td>2339585.0</td>\n",
       "      <td>36325.0</td>\n",
       "      <td>5/1/2004</td>\n",
       "      <td>Scholastic Inc.;;;</td>\n",
       "    </tr>\n",
       "    <tr>\n",
       "      <th>8</th>\n",
       "      <td>Harry Potter Boxed Set  Books 1-5 (Harry Potte...</td>\n",
       "      <td>J.K. Rowling/Mary GrandPré</td>\n",
       "      <td>4.78</td>\n",
       "      <td>0439682584</td>\n",
       "      <td>9.780440e+12</td>\n",
       "      <td>eng</td>\n",
       "      <td>2690.0</td>\n",
       "      <td>41428.0</td>\n",
       "      <td>164.0</td>\n",
       "      <td>9/13/2004</td>\n",
       "      <td>Scholastic;;;</td>\n",
       "    </tr>\n",
       "    <tr>\n",
       "      <th>10</th>\n",
       "      <td>Harry Potter Collection (Harry Potter  #1-6)</td>\n",
       "      <td>J.K. Rowling</td>\n",
       "      <td>4.73</td>\n",
       "      <td>0439827604</td>\n",
       "      <td>9.780440e+12</td>\n",
       "      <td>eng</td>\n",
       "      <td>3342.0</td>\n",
       "      <td>28242.0</td>\n",
       "      <td>808.0</td>\n",
       "      <td>9/12/2005</td>\n",
       "      <td>Scholastic;;;</td>\n",
       "    </tr>\n",
       "    <tr>\n",
       "      <th>12</th>\n",
       "      <td>The Ultimate Hitchhiker's Guide: Five Complete...</td>\n",
       "      <td>Douglas Adams</td>\n",
       "      <td>4.38</td>\n",
       "      <td>0517226952</td>\n",
       "      <td>9.780517e+12</td>\n",
       "      <td>eng</td>\n",
       "      <td>815.0</td>\n",
       "      <td>3628.0</td>\n",
       "      <td>254.0</td>\n",
       "      <td>11/1/2005</td>\n",
       "      <td>Gramercy Books;;;</td>\n",
       "    </tr>\n",
       "    <tr>\n",
       "      <th>13</th>\n",
       "      <td>The Ultimate Hitchhiker's Guide to the Galaxy ...</td>\n",
       "      <td>Douglas Adams</td>\n",
       "      <td>4.38</td>\n",
       "      <td>0345453743</td>\n",
       "      <td>9.780345e+12</td>\n",
       "      <td>eng</td>\n",
       "      <td>815.0</td>\n",
       "      <td>249558.0</td>\n",
       "      <td>4080.0</td>\n",
       "      <td>4/30/2002</td>\n",
       "      <td>Del Rey Books;;;</td>\n",
       "    </tr>\n",
       "    <tr>\n",
       "      <th>14</th>\n",
       "      <td>The Hitchhiker's Guide to the Galaxy (Hitchhik...</td>\n",
       "      <td>Douglas Adams</td>\n",
       "      <td>4.22</td>\n",
       "      <td>1400052920</td>\n",
       "      <td>9.781400e+12</td>\n",
       "      <td>eng</td>\n",
       "      <td>215.0</td>\n",
       "      <td>4930.0</td>\n",
       "      <td>460.0</td>\n",
       "      <td>8/3/2004</td>\n",
       "      <td>Crown;;;</td>\n",
       "    </tr>\n",
       "    <tr>\n",
       "      <th>16</th>\n",
       "      <td>The Hitchhiker's Guide to the Galaxy (Hitchhik...</td>\n",
       "      <td>Douglas Adams/Stephen Fry</td>\n",
       "      <td>4.22</td>\n",
       "      <td>0739322206</td>\n",
       "      <td>9.780739e+12</td>\n",
       "      <td>eng</td>\n",
       "      <td>6.0</td>\n",
       "      <td>1266.0</td>\n",
       "      <td>253.0</td>\n",
       "      <td>3/23/2005</td>\n",
       "      <td>Random House Audio;;;</td>\n",
       "    </tr>\n",
       "  </tbody>\n",
       "</table>\n",
       "</div>"
      ],
      "text/plain": [
       "                                                    title  \\\n",
       "bookID                                                      \n",
       "1       Harry Potter and the Half-Blood Prince (Harry ...   \n",
       "2       Harry Potter and the Order of the Phoenix (Har...   \n",
       "4       Harry Potter and the Chamber of Secrets (Harry...   \n",
       "5       Harry Potter and the Prisoner of Azkaban (Harr...   \n",
       "8       Harry Potter Boxed Set  Books 1-5 (Harry Potte...   \n",
       "10           Harry Potter Collection (Harry Potter  #1-6)   \n",
       "12      The Ultimate Hitchhiker's Guide: Five Complete...   \n",
       "13      The Ultimate Hitchhiker's Guide to the Galaxy ...   \n",
       "14      The Hitchhiker's Guide to the Galaxy (Hitchhik...   \n",
       "16      The Hitchhiker's Guide to the Galaxy (Hitchhik...   \n",
       "\n",
       "                           authors  average_rating        isbn        isbn13  \\\n",
       "bookID                                                                         \n",
       "1       J.K. Rowling/Mary GrandPré            4.57  0439785960  9.780440e+12   \n",
       "2       J.K. Rowling/Mary GrandPré            4.49  0439358078  9.780439e+12   \n",
       "4                     J.K. Rowling            4.42  0439554896  9.780440e+12   \n",
       "5       J.K. Rowling/Mary GrandPré            4.56  043965548X  9.780440e+12   \n",
       "8       J.K. Rowling/Mary GrandPré            4.78  0439682584  9.780440e+12   \n",
       "10                    J.K. Rowling            4.73  0439827604  9.780440e+12   \n",
       "12                   Douglas Adams            4.38  0517226952  9.780517e+12   \n",
       "13                   Douglas Adams            4.38  0345453743  9.780345e+12   \n",
       "14                   Douglas Adams            4.22  1400052920  9.781400e+12   \n",
       "16       Douglas Adams/Stephen Fry            4.22  0739322206  9.780739e+12   \n",
       "\n",
       "       language_code  num_pages  ratings_count  text_reviews_count  \\\n",
       "bookID                                                               \n",
       "1                eng      652.0      2095690.0             27591.0   \n",
       "2                eng      870.0      2153167.0             29221.0   \n",
       "4                eng      352.0         6333.0               244.0   \n",
       "5                eng      435.0      2339585.0             36325.0   \n",
       "8                eng     2690.0        41428.0               164.0   \n",
       "10               eng     3342.0        28242.0               808.0   \n",
       "12               eng      815.0         3628.0               254.0   \n",
       "13               eng      815.0       249558.0              4080.0   \n",
       "14               eng      215.0         4930.0               460.0   \n",
       "16               eng        6.0         1266.0               253.0   \n",
       "\n",
       "       publication_date           publisher;;;  \n",
       "bookID                                          \n",
       "1             9/16/2006     Scholastic Inc.;;;  \n",
       "2              9/1/2004     Scholastic Inc.;;;  \n",
       "4             11/1/2003          Scholastic;;;  \n",
       "5              5/1/2004     Scholastic Inc.;;;  \n",
       "8             9/13/2004          Scholastic;;;  \n",
       "10            9/12/2005          Scholastic;;;  \n",
       "12            11/1/2005      Gramercy Books;;;  \n",
       "13            4/30/2002       Del Rey Books;;;  \n",
       "14             8/3/2004               Crown;;;  \n",
       "16            3/23/2005  Random House Audio;;;  "
      ]
     },
     "execution_count": 13,
     "metadata": {},
     "output_type": "execute_result"
    }
   ],
   "source": [
    "df.head(10)"
   ]
  },
  {
   "cell_type": "code",
   "execution_count": 14,
   "id": "eaea1726",
   "metadata": {},
   "outputs": [
    {
     "data": {
      "text/html": [
       "<div>\n",
       "<style scoped>\n",
       "    .dataframe tbody tr th:only-of-type {\n",
       "        vertical-align: middle;\n",
       "    }\n",
       "\n",
       "    .dataframe tbody tr th {\n",
       "        vertical-align: top;\n",
       "    }\n",
       "\n",
       "    .dataframe thead th {\n",
       "        text-align: right;\n",
       "    }\n",
       "</style>\n",
       "<table border=\"1\" class=\"dataframe\">\n",
       "  <thead>\n",
       "    <tr style=\"text-align: right;\">\n",
       "      <th></th>\n",
       "      <th>title</th>\n",
       "      <th>authors</th>\n",
       "      <th>average_rating</th>\n",
       "      <th>isbn</th>\n",
       "      <th>isbn13</th>\n",
       "      <th>language_code</th>\n",
       "      <th>num_pages</th>\n",
       "      <th>ratings_count</th>\n",
       "      <th>text_reviews_count</th>\n",
       "      <th>publication_date</th>\n",
       "      <th>publisher;;;</th>\n",
       "    </tr>\n",
       "    <tr>\n",
       "      <th>bookID</th>\n",
       "      <th></th>\n",
       "      <th></th>\n",
       "      <th></th>\n",
       "      <th></th>\n",
       "      <th></th>\n",
       "      <th></th>\n",
       "      <th></th>\n",
       "      <th></th>\n",
       "      <th></th>\n",
       "      <th></th>\n",
       "      <th></th>\n",
       "    </tr>\n",
       "  </thead>\n",
       "  <tbody>\n",
       "    <tr>\n",
       "      <th>45617</th>\n",
       "      <td>O Cavalo e o Seu Rapaz (As Crónicas de Nárnia ...</td>\n",
       "      <td>C.S. Lewis/Pauline Baynes/Ana Falcão Bastos</td>\n",
       "      <td>3.92</td>\n",
       "      <td>9722330551</td>\n",
       "      <td>9.789722e+12</td>\n",
       "      <td>por</td>\n",
       "      <td>160.0</td>\n",
       "      <td>207.0</td>\n",
       "      <td>16.0</td>\n",
       "      <td>8/15/2003</td>\n",
       "      <td>Editorial Presença;;;</td>\n",
       "    </tr>\n",
       "    <tr>\n",
       "      <th>45623</th>\n",
       "      <td>O Sobrinho do Mágico (As Crónicas de Nárnia  #1)</td>\n",
       "      <td>C.S. Lewis/Pauline Baynes/Ana Falcão Bastos</td>\n",
       "      <td>4.04</td>\n",
       "      <td>9722329987</td>\n",
       "      <td>9.789722e+12</td>\n",
       "      <td>por</td>\n",
       "      <td>147.0</td>\n",
       "      <td>396.0</td>\n",
       "      <td>37.0</td>\n",
       "      <td>4/8/2003</td>\n",
       "      <td>Editorial Presença;;;</td>\n",
       "    </tr>\n",
       "    <tr>\n",
       "      <th>45625</th>\n",
       "      <td>A Viagem do Caminheiro da Alvorada (As Crónica...</td>\n",
       "      <td>C.S. Lewis/Pauline Baynes/Ana Falcão Bastos</td>\n",
       "      <td>4.09</td>\n",
       "      <td>9722331329</td>\n",
       "      <td>9.789722e+12</td>\n",
       "      <td>por</td>\n",
       "      <td>176.0</td>\n",
       "      <td>161.0</td>\n",
       "      <td>14.0</td>\n",
       "      <td>9/1/2004</td>\n",
       "      <td>Editorial Presença;;;</td>\n",
       "    </tr>\n",
       "    <tr>\n",
       "      <th>45626</th>\n",
       "      <td>O Príncipe Caspian (As Crónicas de Nárnia  #4)</td>\n",
       "      <td>C.S. Lewis/Pauline Baynes/Ana Falcão Bastos</td>\n",
       "      <td>3.97</td>\n",
       "      <td>9722330977</td>\n",
       "      <td>9.789722e+12</td>\n",
       "      <td>por</td>\n",
       "      <td>160.0</td>\n",
       "      <td>215.0</td>\n",
       "      <td>11.0</td>\n",
       "      <td>10/11/2003</td>\n",
       "      <td>Editorial Presença;;;</td>\n",
       "    </tr>\n",
       "    <tr>\n",
       "      <th>45630</th>\n",
       "      <td>Whores for Gloria</td>\n",
       "      <td>William T. Vollmann</td>\n",
       "      <td>3.69</td>\n",
       "      <td>0140231579</td>\n",
       "      <td>9.780140e+12</td>\n",
       "      <td>en-US</td>\n",
       "      <td>160.0</td>\n",
       "      <td>932.0</td>\n",
       "      <td>111.0</td>\n",
       "      <td>2/1/1994</td>\n",
       "      <td>Penguin Books;;;</td>\n",
       "    </tr>\n",
       "    <tr>\n",
       "      <th>45631</th>\n",
       "      <td>Expelled from Eden: A William T. Vollmann Reader</td>\n",
       "      <td>William T. Vollmann/Larry McCaffery/Michael He...</td>\n",
       "      <td>4.06</td>\n",
       "      <td>1560254416</td>\n",
       "      <td>9.781560e+12</td>\n",
       "      <td>eng</td>\n",
       "      <td>512.0</td>\n",
       "      <td>156.0</td>\n",
       "      <td>20.0</td>\n",
       "      <td>12/21/2004</td>\n",
       "      <td>Da Capo Press;;;</td>\n",
       "    </tr>\n",
       "    <tr>\n",
       "      <th>45633</th>\n",
       "      <td>You Bright and Risen Angels</td>\n",
       "      <td>William T. Vollmann</td>\n",
       "      <td>4.08</td>\n",
       "      <td>0140110879</td>\n",
       "      <td>9.780140e+12</td>\n",
       "      <td>eng</td>\n",
       "      <td>635.0</td>\n",
       "      <td>783.0</td>\n",
       "      <td>56.0</td>\n",
       "      <td>12/1/1988</td>\n",
       "      <td>Penguin Books;;;</td>\n",
       "    </tr>\n",
       "    <tr>\n",
       "      <th>45634</th>\n",
       "      <td>The Ice-Shirt (Seven Dreams #1)</td>\n",
       "      <td>William T. Vollmann</td>\n",
       "      <td>3.96</td>\n",
       "      <td>0140131965</td>\n",
       "      <td>9.780140e+12</td>\n",
       "      <td>eng</td>\n",
       "      <td>415.0</td>\n",
       "      <td>820.0</td>\n",
       "      <td>95.0</td>\n",
       "      <td>8/1/1993</td>\n",
       "      <td>Penguin Books;;;</td>\n",
       "    </tr>\n",
       "    <tr>\n",
       "      <th>45639</th>\n",
       "      <td>Poor People</td>\n",
       "      <td>William T. Vollmann</td>\n",
       "      <td>3.72</td>\n",
       "      <td>0060878827</td>\n",
       "      <td>9.780061e+12</td>\n",
       "      <td>eng</td>\n",
       "      <td>434.0</td>\n",
       "      <td>769.0</td>\n",
       "      <td>139.0</td>\n",
       "      <td>2/27/2007</td>\n",
       "      <td>Ecco;;;</td>\n",
       "    </tr>\n",
       "    <tr>\n",
       "      <th>45641</th>\n",
       "      <td>Las aventuras de Tom Sawyer</td>\n",
       "      <td>Mark Twain</td>\n",
       "      <td>3.91</td>\n",
       "      <td>8497646983</td>\n",
       "      <td>9.788498e+12</td>\n",
       "      <td>spa</td>\n",
       "      <td>272.0</td>\n",
       "      <td>113.0</td>\n",
       "      <td>12.0</td>\n",
       "      <td>5/28/2006</td>\n",
       "      <td>Edimat Libros;;;</td>\n",
       "    </tr>\n",
       "  </tbody>\n",
       "</table>\n",
       "</div>"
      ],
      "text/plain": [
       "                                                    title  \\\n",
       "bookID                                                      \n",
       "45617   O Cavalo e o Seu Rapaz (As Crónicas de Nárnia ...   \n",
       "45623    O Sobrinho do Mágico (As Crónicas de Nárnia  #1)   \n",
       "45625   A Viagem do Caminheiro da Alvorada (As Crónica...   \n",
       "45626      O Príncipe Caspian (As Crónicas de Nárnia  #4)   \n",
       "45630                                   Whores for Gloria   \n",
       "45631    Expelled from Eden: A William T. Vollmann Reader   \n",
       "45633                         You Bright and Risen Angels   \n",
       "45634                     The Ice-Shirt (Seven Dreams #1)   \n",
       "45639                                         Poor People   \n",
       "45641                         Las aventuras de Tom Sawyer   \n",
       "\n",
       "                                                  authors  average_rating  \\\n",
       "bookID                                                                      \n",
       "45617         C.S. Lewis/Pauline Baynes/Ana Falcão Bastos            3.92   \n",
       "45623         C.S. Lewis/Pauline Baynes/Ana Falcão Bastos            4.04   \n",
       "45625         C.S. Lewis/Pauline Baynes/Ana Falcão Bastos            4.09   \n",
       "45626         C.S. Lewis/Pauline Baynes/Ana Falcão Bastos            3.97   \n",
       "45630                                 William T. Vollmann            3.69   \n",
       "45631   William T. Vollmann/Larry McCaffery/Michael He...            4.06   \n",
       "45633                                 William T. Vollmann            4.08   \n",
       "45634                                 William T. Vollmann            3.96   \n",
       "45639                                 William T. Vollmann            3.72   \n",
       "45641                                          Mark Twain            3.91   \n",
       "\n",
       "              isbn        isbn13 language_code  num_pages  ratings_count  \\\n",
       "bookID                                                                     \n",
       "45617   9722330551  9.789722e+12           por      160.0          207.0   \n",
       "45623   9722329987  9.789722e+12           por      147.0          396.0   \n",
       "45625   9722331329  9.789722e+12           por      176.0          161.0   \n",
       "45626   9722330977  9.789722e+12           por      160.0          215.0   \n",
       "45630   0140231579  9.780140e+12         en-US      160.0          932.0   \n",
       "45631   1560254416  9.781560e+12           eng      512.0          156.0   \n",
       "45633   0140110879  9.780140e+12           eng      635.0          783.0   \n",
       "45634   0140131965  9.780140e+12           eng      415.0          820.0   \n",
       "45639   0060878827  9.780061e+12           eng      434.0          769.0   \n",
       "45641   8497646983  9.788498e+12           spa      272.0          113.0   \n",
       "\n",
       "        text_reviews_count publication_date           publisher;;;  \n",
       "bookID                                                              \n",
       "45617                 16.0        8/15/2003  Editorial Presença;;;  \n",
       "45623                 37.0         4/8/2003  Editorial Presença;;;  \n",
       "45625                 14.0         9/1/2004  Editorial Presença;;;  \n",
       "45626                 11.0       10/11/2003  Editorial Presença;;;  \n",
       "45630                111.0         2/1/1994       Penguin Books;;;  \n",
       "45631                 20.0       12/21/2004       Da Capo Press;;;  \n",
       "45633                 56.0        12/1/1988       Penguin Books;;;  \n",
       "45634                 95.0         8/1/1993       Penguin Books;;;  \n",
       "45639                139.0        2/27/2007                Ecco;;;  \n",
       "45641                 12.0        5/28/2006       Edimat Libros;;;  "
      ]
     },
     "execution_count": 14,
     "metadata": {},
     "output_type": "execute_result"
    }
   ],
   "source": [
    "df.tail(10)"
   ]
  },
  {
   "cell_type": "code",
   "execution_count": 15,
   "id": "c7b8b93c",
   "metadata": {
    "scrolled": true
   },
   "outputs": [
    {
     "data": {
      "text/html": [
       "<div>\n",
       "<style scoped>\n",
       "    .dataframe tbody tr th:only-of-type {\n",
       "        vertical-align: middle;\n",
       "    }\n",
       "\n",
       "    .dataframe tbody tr th {\n",
       "        vertical-align: top;\n",
       "    }\n",
       "\n",
       "    .dataframe thead th {\n",
       "        text-align: right;\n",
       "    }\n",
       "</style>\n",
       "<table border=\"1\" class=\"dataframe\">\n",
       "  <thead>\n",
       "    <tr style=\"text-align: right;\">\n",
       "      <th></th>\n",
       "      <th>average_rating</th>\n",
       "      <th>isbn13</th>\n",
       "      <th>num_pages</th>\n",
       "      <th>ratings_count</th>\n",
       "      <th>text_reviews_count</th>\n",
       "    </tr>\n",
       "  </thead>\n",
       "  <tbody>\n",
       "    <tr>\n",
       "      <th>count</th>\n",
       "      <td>11094.000000</td>\n",
       "      <td>1.109400e+04</td>\n",
       "      <td>11094.000000</td>\n",
       "      <td>1.109400e+04</td>\n",
       "      <td>11094.000000</td>\n",
       "    </tr>\n",
       "    <tr>\n",
       "      <th>mean</th>\n",
       "      <td>3.935026</td>\n",
       "      <td>9.759826e+12</td>\n",
       "      <td>336.543537</td>\n",
       "      <td>1.798750e+04</td>\n",
       "      <td>543.304309</td>\n",
       "    </tr>\n",
       "    <tr>\n",
       "      <th>std</th>\n",
       "      <td>0.346458</td>\n",
       "      <td>4.435532e+11</td>\n",
       "      <td>241.313733</td>\n",
       "      <td>1.126427e+05</td>\n",
       "      <td>2579.856004</td>\n",
       "    </tr>\n",
       "    <tr>\n",
       "      <th>min</th>\n",
       "      <td>0.000000</td>\n",
       "      <td>8.987060e+09</td>\n",
       "      <td>0.000000</td>\n",
       "      <td>0.000000e+00</td>\n",
       "      <td>0.000000</td>\n",
       "    </tr>\n",
       "    <tr>\n",
       "      <th>25%</th>\n",
       "      <td>3.770000</td>\n",
       "      <td>9.780345e+12</td>\n",
       "      <td>192.000000</td>\n",
       "      <td>1.050000e+02</td>\n",
       "      <td>9.000000</td>\n",
       "    </tr>\n",
       "    <tr>\n",
       "      <th>50%</th>\n",
       "      <td>3.960000</td>\n",
       "      <td>9.780582e+12</td>\n",
       "      <td>299.000000</td>\n",
       "      <td>7.490000e+02</td>\n",
       "      <td>47.000000</td>\n",
       "    </tr>\n",
       "    <tr>\n",
       "      <th>75%</th>\n",
       "      <td>4.140000</td>\n",
       "      <td>9.780872e+12</td>\n",
       "      <td>416.000000</td>\n",
       "      <td>5.018750e+03</td>\n",
       "      <td>238.000000</td>\n",
       "    </tr>\n",
       "    <tr>\n",
       "      <th>max</th>\n",
       "      <td>5.000000</td>\n",
       "      <td>9.790008e+12</td>\n",
       "      <td>6576.000000</td>\n",
       "      <td>4.597666e+06</td>\n",
       "      <td>94265.000000</td>\n",
       "    </tr>\n",
       "  </tbody>\n",
       "</table>\n",
       "</div>"
      ],
      "text/plain": [
       "       average_rating        isbn13     num_pages  ratings_count  \\\n",
       "count    11094.000000  1.109400e+04  11094.000000   1.109400e+04   \n",
       "mean         3.935026  9.759826e+12    336.543537   1.798750e+04   \n",
       "std          0.346458  4.435532e+11    241.313733   1.126427e+05   \n",
       "min          0.000000  8.987060e+09      0.000000   0.000000e+00   \n",
       "25%          3.770000  9.780345e+12    192.000000   1.050000e+02   \n",
       "50%          3.960000  9.780582e+12    299.000000   7.490000e+02   \n",
       "75%          4.140000  9.780872e+12    416.000000   5.018750e+03   \n",
       "max          5.000000  9.790008e+12   6576.000000   4.597666e+06   \n",
       "\n",
       "       text_reviews_count  \n",
       "count        11094.000000  \n",
       "mean           543.304309  \n",
       "std           2579.856004  \n",
       "min              0.000000  \n",
       "25%              9.000000  \n",
       "50%             47.000000  \n",
       "75%            238.000000  \n",
       "max          94265.000000  "
      ]
     },
     "execution_count": 15,
     "metadata": {},
     "output_type": "execute_result"
    }
   ],
   "source": [
    "df.describe()"
   ]
  },
  {
   "cell_type": "markdown",
   "id": "0d54f16f",
   "metadata": {},
   "source": [
    "#### Exploratory data analysis"
   ]
  },
  {
   "cell_type": "code",
   "execution_count": null,
   "id": "7284bb57",
   "metadata": {},
   "outputs": [],
   "source": [
    "#Clean dataset"
   ]
  },
  {
   "cell_type": "code",
   "execution_count": 18,
   "id": "910de2f8",
   "metadata": {},
   "outputs": [
    {
     "data": {
      "text/plain": [
       "title                 28\n",
       "authors               28\n",
       "average_rating        28\n",
       "isbn                  28\n",
       "isbn13                28\n",
       "language_code         28\n",
       "num_pages             28\n",
       "ratings_count         28\n",
       "text_reviews_count    28\n",
       "publication_date      28\n",
       "publisher;;;          28\n",
       "dtype: int64"
      ]
     },
     "execution_count": 18,
     "metadata": {},
     "output_type": "execute_result"
    }
   ],
   "source": [
    "df.isna().sum()"
   ]
  },
  {
   "cell_type": "code",
   "execution_count": 19,
   "id": "eff515a6",
   "metadata": {},
   "outputs": [],
   "source": [
    "df=df.dropna()"
   ]
  },
  {
   "cell_type": "code",
   "execution_count": 20,
   "id": "a96a1af0",
   "metadata": {},
   "outputs": [
    {
     "data": {
      "text/plain": [
       "title                 0\n",
       "authors               0\n",
       "average_rating        0\n",
       "isbn                  0\n",
       "isbn13                0\n",
       "language_code         0\n",
       "num_pages             0\n",
       "ratings_count         0\n",
       "text_reviews_count    0\n",
       "publication_date      0\n",
       "publisher;;;          0\n",
       "dtype: int64"
      ]
     },
     "execution_count": 20,
     "metadata": {},
     "output_type": "execute_result"
    }
   ],
   "source": [
    "df.isna().sum()"
   ]
  },
  {
   "cell_type": "code",
   "execution_count": 22,
   "id": "41775a99",
   "metadata": {},
   "outputs": [],
   "source": [
    "df=df.drop(columns=\"isbn\")\n",
    "df=df.drop(columns=\"isbn13\")"
   ]
  },
  {
   "cell_type": "code",
   "execution_count": 23,
   "id": "bb80fc14",
   "metadata": {},
   "outputs": [
    {
     "data": {
      "text/plain": [
       "eng      8885\n",
       "en-US    1403\n",
       "spa       218\n",
       "en-GB     213\n",
       "fre       144\n",
       "ger        99\n",
       "jpn        46\n",
       "mul        19\n",
       "zho        14\n",
       "grc        11\n",
       "por        10\n",
       "en-CA       7\n",
       "ita         5\n",
       "enm         3\n",
       "lat         3\n",
       "swe         2\n",
       "rus         2\n",
       "srp         1\n",
       "nl          1\n",
       "msa         1\n",
       "glg         1\n",
       "wel         1\n",
       "ara         1\n",
       "nor         1\n",
       "tur         1\n",
       "gla         1\n",
       "ale         1\n",
       "Name: language_code, dtype: int64"
      ]
     },
     "execution_count": 23,
     "metadata": {},
     "output_type": "execute_result"
    }
   ],
   "source": [
    "df.language_code.value_counts()"
   ]
  },
  {
   "cell_type": "code",
   "execution_count": 24,
   "id": "c1173a30",
   "metadata": {},
   "outputs": [],
   "source": [
    "df['language_code'] = df['language_code'].replace(['en-US','en-GB','en-CA'], ['eng','eng','eng'])"
   ]
  },
  {
   "cell_type": "code",
   "execution_count": 25,
   "id": "42176ee8",
   "metadata": {},
   "outputs": [
    {
     "data": {
      "text/plain": [
       "eng    10508\n",
       "spa      218\n",
       "fre      144\n",
       "ger       99\n",
       "jpn       46\n",
       "mul       19\n",
       "zho       14\n",
       "grc       11\n",
       "por       10\n",
       "ita        5\n",
       "lat        3\n",
       "enm        3\n",
       "rus        2\n",
       "swe        2\n",
       "nl         1\n",
       "ara        1\n",
       "srp        1\n",
       "msa        1\n",
       "glg        1\n",
       "wel        1\n",
       "nor        1\n",
       "tur        1\n",
       "gla        1\n",
       "ale        1\n",
       "Name: language_code, dtype: int64"
      ]
     },
     "execution_count": 25,
     "metadata": {},
     "output_type": "execute_result"
    }
   ],
   "source": [
    "df.language_code.value_counts()"
   ]
  },
  {
   "cell_type": "code",
   "execution_count": null,
   "id": "45905b59",
   "metadata": {},
   "outputs": [],
   "source": [
    "#Create some basic graphs to see the relations between the attributes of the dataset"
   ]
  },
  {
   "cell_type": "code",
   "execution_count": 27,
   "id": "5d8ce2d9",
   "metadata": {},
   "outputs": [
    {
     "data": {
      "image/png": "[encoded data removed]",
      "text/plain": [
       "<Figure size 432x288 with 1 Axes>"
      ]
     },
     "metadata": {
      "needs_background": "light"
     },
     "output_type": "display_data"
    }
   ],
   "source": [
    "plt.hist(df.average_rating,bins=5)\n",
    "plt.xlabel(\"Average rating\")\n",
    "plt.ylabel(\"Number of Books\")\n",
    "plt.show()"
   ]
  },
  {
   "cell_type": "code",
   "execution_count": 29,
   "id": "af0f3920",
   "metadata": {},
   "outputs": [
    {
     "data": {
      "image/png": "[encoded data removed]",
      "text/plain": [
       "<Figure size 432x288 with 1 Axes>"
      ]
     },
     "metadata": {
      "needs_background": "light"
     },
     "output_type": "display_data"
    }
   ],
   "source": [
    "plt.hist(df.num_pages,bins=10)\n",
    "plt.xlabel(\"Number of Pages\")\n",
    "plt.ylabel(\"Number of Books\")\n",
    "plt.show()"
   ]
  },
  {
   "cell_type": "code",
   "execution_count": 38,
   "id": "34b14f10",
   "metadata": {},
   "outputs": [
    {
     "data": {
      "image/png": "[encoded data removed]",
      "text/plain": [
       "<Figure size 720x360 with 1 Axes>"
      ]
     },
     "metadata": {
      "needs_background": "light"
     },
     "output_type": "display_data"
    }
   ],
   "source": [
    "plt.figure(figsize=(10,5))\n",
    "plt.scatter(df.average_rating,df.ratings_count)\n",
    "plt.xlabel(\"Average rating\")\n",
    "plt.ylabel(\"Rating counts\")\n",
    "plt.show()"
   ]
  },
  {
   "cell_type": "code",
   "execution_count": 39,
   "id": "d4ac518e",
   "metadata": {},
   "outputs": [
    {
     "data": {
      "image/png": "[encoded data removed]",
      "text/plain": [
       "<Figure size 720x360 with 1 Axes>"
      ]
     },
     "metadata": {
      "needs_background": "light"
     },
     "output_type": "display_data"
    }
   ],
   "source": [
    "plt.figure(figsize=(10,5))\n",
    "plt.scatter(df.average_rating,df.text_reviews_count)\n",
    "plt.xlabel(\"Average rating\")\n",
    "plt.ylabel(\"Text reviews count\")\n",
    "plt.show()"
   ]
  },
  {
   "cell_type": "code",
   "execution_count": 40,
   "id": "7312a4e4",
   "metadata": {},
   "outputs": [
    {
     "data": {
      "image/png": "[encoded data removed]",
      "text/plain": [
       "<Figure size 432x288 with 1 Axes>"
      ]
     },
     "metadata": {
      "needs_background": "light"
     },
     "output_type": "display_data"
    }
   ],
   "source": [
    "plt.boxplot([df.average_rating,df.num_pages,df.ratings_count,df.text_reviews_count])\n",
    "plt.xlabel(\"Attribute\")\n",
    "plt.ylabel(\"Number of books\")\n",
    "plt.show()"
   ]
  },
  {
   "cell_type": "code",
   "execution_count": 64,
   "id": "d15b6683",
   "metadata": {},
   "outputs": [
    {
     "data": {
      "image/png": "[encoded data removed]",
      "text/plain": [
       "<Figure size 432x288 with 1 Axes>"
      ]
     },
     "metadata": {
      "needs_background": "light"
     },
     "output_type": "display_data"
    },
    {
     "data": {
      "text/plain": [
       "authors\n",
       "J.K. Rowling/Mary GrandPré                 8923980.0\n",
       "J.R.R. Tolkien                             4776638.0\n",
       "Stephenie Meyer                            4597666.0\n",
       "Dan Brown                                  4135380.0\n",
       "Nicholas Sparks                            3048149.0\n",
       "Stephen King                               2985326.0\n",
       "J.D. Salinger                              2777908.0\n",
       "Rick Riordan                               2413447.0\n",
       "George Orwell/Boris Grabnar/Peter Škerl    2111750.0\n",
       "John Steinbeck                             2091579.0\n",
       "Name: ratings_count, dtype: float64"
      ]
     },
     "execution_count": 64,
     "metadata": {},
     "output_type": "execute_result"
    }
   ],
   "source": [
    "authors_by_num_ratings = df.groupby('authors')['ratings_count'].sum()\n",
    "sorted_authors_by_num_ratings = authors_by_num_ratings.sort_values(ascending=False)\n",
    "top_10_authors_by_num_ratings = sorted_authors_by_num_ratings.head(10)\n",
    "top_10_authors_by_num_ratings.plot(kind='bar')\n",
    "plt.title(\"Top 10 authors with highest number of ratings\")\n",
    "plt.show()\n",
    "top_10_authors_by_num_ratings"
   ]
  },
  {
   "cell_type": "code",
   "execution_count": 54,
   "id": "d8a778e7",
   "metadata": {},
   "outputs": [
    {
     "data": {
      "image/png": "[encoded data removed]",
      "text/plain": [
       "<Figure size 432x288 with 1 Axes>"
      ]
     },
     "metadata": {
      "needs_background": "light"
     },
     "output_type": "display_data"
    }
   ],
   "source": [
    "books_by_num_ratings = df.groupby('title')['ratings_count'].sum()\n",
    "sorted_books_by_num_ratings = books_by_num_ratings.sort_values(ascending=False)\n",
    "top_10_books_by_num_ratings = sorted_books_by_num_ratings.head(10)\n",
    "top_10_books_by_num_ratings.plot(kind='bar')\n",
    "plt.title(\"Top 10 books with highest number of ratings\")\n",
    "plt.show()"
   ]
  },
  {
   "cell_type": "code",
   "execution_count": 55,
   "id": "0554ec6e",
   "metadata": {},
   "outputs": [
    {
     "data": {
      "image/png": "[encoded data removed]",
      "text/plain": [
       "<Figure size 432x288 with 1 Axes>"
      ]
     },
     "metadata": {
      "needs_background": "light"
     },
     "output_type": "display_data"
    }
   ],
   "source": [
    "books_by_num_reviews = df.groupby('title')['text_reviews_count'].sum()\n",
    "sorted_books_by_num_reviews = books_by_num_reviews.sort_values(ascending=False)\n",
    "top_10_books_by_num_reviews = sorted_books_by_num_reviews.head(10)\n",
    "top_10_books_by_num_reviews.plot(kind='bar')\n",
    "plt.title(\"Top 10 books with highest number of text reviews\")\n",
    "plt.show()"
   ]
  },
  {
   "cell_type": "code",
   "execution_count": 59,
   "id": "7604a133",
   "metadata": {},
   "outputs": [
    {
     "data": {
      "text/html": [
       "<div>\n",
       "<style scoped>\n",
       "    .dataframe tbody tr th:only-of-type {\n",
       "        vertical-align: middle;\n",
       "    }\n",
       "\n",
       "    .dataframe tbody tr th {\n",
       "        vertical-align: top;\n",
       "    }\n",
       "\n",
       "    .dataframe thead th {\n",
       "        text-align: right;\n",
       "    }\n",
       "</style>\n",
       "<table border=\"1\" class=\"dataframe\">\n",
       "  <thead>\n",
       "    <tr style=\"text-align: right;\">\n",
       "      <th></th>\n",
       "      <th>title</th>\n",
       "      <th>average_rating</th>\n",
       "    </tr>\n",
       "    <tr>\n",
       "      <th>bookID</th>\n",
       "      <th></th>\n",
       "      <th></th>\n",
       "    </tr>\n",
       "  </thead>\n",
       "  <tbody>\n",
       "    <tr>\n",
       "      <th>15294</th>\n",
       "      <td>魔戒首部曲：魔戒現身</td>\n",
       "      <td>4.36</td>\n",
       "    </tr>\n",
       "    <tr>\n",
       "      <th>15318</th>\n",
       "      <td>魔戒二部曲：雙城奇謀</td>\n",
       "      <td>4.44</td>\n",
       "    </tr>\n",
       "    <tr>\n",
       "      <th>31996</th>\n",
       "      <td>鋼之鍊金術師 9</td>\n",
       "      <td>4.57</td>\n",
       "    </tr>\n",
       "    <tr>\n",
       "      <th>31999</th>\n",
       "      <td>鋼之鍊金術師 7</td>\n",
       "      <td>4.57</td>\n",
       "    </tr>\n",
       "    <tr>\n",
       "      <th>31993</th>\n",
       "      <td>鋼之鍊金術師 6</td>\n",
       "      <td>4.58</td>\n",
       "    </tr>\n",
       "    <tr>\n",
       "      <th>31997</th>\n",
       "      <td>鋼之鍊金術師 5</td>\n",
       "      <td>4.56</td>\n",
       "    </tr>\n",
       "    <tr>\n",
       "      <th>31995</th>\n",
       "      <td>鋼之鍊金術師 4</td>\n",
       "      <td>4.55</td>\n",
       "    </tr>\n",
       "    <tr>\n",
       "      <th>31998</th>\n",
       "      <td>鋼之鍊金術師 2</td>\n",
       "      <td>4.52</td>\n",
       "    </tr>\n",
       "    <tr>\n",
       "      <th>31994</th>\n",
       "      <td>鋼之鍊金術師 10</td>\n",
       "      <td>4.60</td>\n",
       "    </tr>\n",
       "    <tr>\n",
       "      <th>31992</th>\n",
       "      <td>鋼之鍊金術師 1</td>\n",
       "      <td>4.50</td>\n",
       "    </tr>\n",
       "  </tbody>\n",
       "</table>\n",
       "</div>"
      ],
      "text/plain": [
       "             title  average_rating\n",
       "bookID                            \n",
       "15294   魔戒首部曲：魔戒現身            4.36\n",
       "15318   魔戒二部曲：雙城奇謀            4.44\n",
       "31996     鋼之鍊金術師 9            4.57\n",
       "31999     鋼之鍊金術師 7            4.57\n",
       "31993     鋼之鍊金術師 6            4.58\n",
       "31997     鋼之鍊金術師 5            4.56\n",
       "31995     鋼之鍊金術師 4            4.55\n",
       "31998     鋼之鍊金術師 2            4.52\n",
       "31994    鋼之鍊金術師 10            4.60\n",
       "31992     鋼之鍊金術師 1            4.50"
      ]
     },
     "execution_count": 59,
     "metadata": {},
     "output_type": "execute_result"
    }
   ],
   "source": [
    "books_by_avg_rating = df[['title','average_rating']]\n",
    "sorted_books_by_avg_rating = books_by_avg_rating.sort_values(by=['title'], ascending=False)\n",
    "top_10_books_by_avg_rating = sorted_books_by_avg_rating.head(10)\n",
    "top_10_books_by_avg_rating"
   ]
  },
  {
   "cell_type": "code",
   "execution_count": 60,
   "id": "50184a2e",
   "metadata": {
    "scrolled": false
   },
   "outputs": [
    {
     "data": {
      "text/html": [
       "<div>\n",
       "<style scoped>\n",
       "    .dataframe tbody tr th:only-of-type {\n",
       "        vertical-align: middle;\n",
       "    }\n",
       "\n",
       "    .dataframe tbody tr th {\n",
       "        vertical-align: top;\n",
       "    }\n",
       "\n",
       "    .dataframe thead th {\n",
       "        text-align: right;\n",
       "    }\n",
       "</style>\n",
       "<table border=\"1\" class=\"dataframe\">\n",
       "  <thead>\n",
       "    <tr style=\"text-align: right;\">\n",
       "      <th></th>\n",
       "      <th>title</th>\n",
       "      <th>authors</th>\n",
       "      <th>average_rating</th>\n",
       "      <th>language_code</th>\n",
       "      <th>num_pages</th>\n",
       "      <th>ratings_count</th>\n",
       "      <th>text_reviews_count</th>\n",
       "      <th>publication_date</th>\n",
       "      <th>publisher;;;</th>\n",
       "    </tr>\n",
       "    <tr>\n",
       "      <th>bookID</th>\n",
       "      <th></th>\n",
       "      <th></th>\n",
       "      <th></th>\n",
       "      <th></th>\n",
       "      <th></th>\n",
       "      <th></th>\n",
       "      <th></th>\n",
       "      <th></th>\n",
       "      <th></th>\n",
       "    </tr>\n",
       "  </thead>\n",
       "  <tbody>\n",
       "    <tr>\n",
       "      <th>41865</th>\n",
       "      <td>Twilight (Twilight  #1)</td>\n",
       "      <td>Stephenie Meyer</td>\n",
       "      <td>3.59</td>\n",
       "      <td>eng</td>\n",
       "      <td>501.0</td>\n",
       "      <td>4597666.0</td>\n",
       "      <td>94265.0</td>\n",
       "      <td>9/6/2006</td>\n",
       "      <td>Little  Brown and Company;;;</td>\n",
       "    </tr>\n",
       "    <tr>\n",
       "      <th>5907</th>\n",
       "      <td>The Hobbit  or There and Back Again</td>\n",
       "      <td>J.R.R. Tolkien</td>\n",
       "      <td>4.27</td>\n",
       "      <td>eng</td>\n",
       "      <td>366.0</td>\n",
       "      <td>2530894.0</td>\n",
       "      <td>32871.0</td>\n",
       "      <td>8/15/2002</td>\n",
       "      <td>Houghton Mifflin;;;</td>\n",
       "    </tr>\n",
       "    <tr>\n",
       "      <th>5107</th>\n",
       "      <td>The Catcher in the Rye</td>\n",
       "      <td>J.D. Salinger</td>\n",
       "      <td>3.80</td>\n",
       "      <td>eng</td>\n",
       "      <td>277.0</td>\n",
       "      <td>2457092.0</td>\n",
       "      <td>43499.0</td>\n",
       "      <td>1/30/2001</td>\n",
       "      <td>Back Bay Books;;;</td>\n",
       "    </tr>\n",
       "    <tr>\n",
       "      <th>960</th>\n",
       "      <td>Angels &amp; Demons (Robert Langdon  #1)</td>\n",
       "      <td>Dan Brown</td>\n",
       "      <td>3.89</td>\n",
       "      <td>eng</td>\n",
       "      <td>736.0</td>\n",
       "      <td>2418736.0</td>\n",
       "      <td>21303.0</td>\n",
       "      <td>4/1/2006</td>\n",
       "      <td>Pocket Books;;;</td>\n",
       "    </tr>\n",
       "    <tr>\n",
       "      <th>5</th>\n",
       "      <td>Harry Potter and the Prisoner of Azkaban (Harr...</td>\n",
       "      <td>J.K. Rowling/Mary GrandPré</td>\n",
       "      <td>4.56</td>\n",
       "      <td>eng</td>\n",
       "      <td>435.0</td>\n",
       "      <td>2339585.0</td>\n",
       "      <td>36325.0</td>\n",
       "      <td>5/1/2004</td>\n",
       "      <td>Scholastic Inc.;;;</td>\n",
       "    </tr>\n",
       "    <tr>\n",
       "      <th>...</th>\n",
       "      <td>...</td>\n",
       "      <td>...</td>\n",
       "      <td>...</td>\n",
       "      <td>...</td>\n",
       "      <td>...</td>\n",
       "      <td>...</td>\n",
       "      <td>...</td>\n",
       "      <td>...</td>\n",
       "      <td>...</td>\n",
       "    </tr>\n",
       "    <tr>\n",
       "      <th>17045</th>\n",
       "      <td>American Government: Continuity and Change  Te...</td>\n",
       "      <td>Karen  O'Connor/Larry J. Sabato</td>\n",
       "      <td>2.83</td>\n",
       "      <td>eng</td>\n",
       "      <td>1088.0</td>\n",
       "      <td>0.0</td>\n",
       "      <td>0.0</td>\n",
       "      <td>5/26/2005</td>\n",
       "      <td>Longman Publishing Group;;;</td>\n",
       "    </tr>\n",
       "    <tr>\n",
       "      <th>10939</th>\n",
       "      <td>Ya Sé Que Te Quiero</td>\n",
       "      <td>Billy Crystal/Elizabeth Sayles</td>\n",
       "      <td>4.19</td>\n",
       "      <td>spa</td>\n",
       "      <td>40.0</td>\n",
       "      <td>0.0</td>\n",
       "      <td>0.0</td>\n",
       "      <td>4/11/2006</td>\n",
       "      <td>Rayo;;;</td>\n",
       "    </tr>\n",
       "    <tr>\n",
       "      <th>11062</th>\n",
       "      <td>Roald Dahl: The Storyteller (Famous Lives)</td>\n",
       "      <td>Jason Hook</td>\n",
       "      <td>4.06</td>\n",
       "      <td>eng</td>\n",
       "      <td>48.0</td>\n",
       "      <td>0.0</td>\n",
       "      <td>0.0</td>\n",
       "      <td>8/12/2004</td>\n",
       "      <td>Hodder Wayland;;;</td>\n",
       "    </tr>\n",
       "    <tr>\n",
       "      <th>11069</th>\n",
       "      <td>Les Nouvelles Recettes irrésistibles de Roald ...</td>\n",
       "      <td>Roald Dahl/Quentin Blake</td>\n",
       "      <td>4.14</td>\n",
       "      <td>fre</td>\n",
       "      <td>64.0</td>\n",
       "      <td>0.0</td>\n",
       "      <td>0.0</td>\n",
       "      <td>9/18/2002</td>\n",
       "      <td>Gallimard Jeunesse;;;</td>\n",
       "    </tr>\n",
       "    <tr>\n",
       "      <th>12712</th>\n",
       "      <td>Brodie's notes on Aldous Huxley's brave new world</td>\n",
       "      <td>Graham Handley</td>\n",
       "      <td>0.00</td>\n",
       "      <td>eng</td>\n",
       "      <td>71.0</td>\n",
       "      <td>0.0</td>\n",
       "      <td>0.0</td>\n",
       "      <td>8/20/1992</td>\n",
       "      <td>Macmillan;;;</td>\n",
       "    </tr>\n",
       "  </tbody>\n",
       "</table>\n",
       "<p>11094 rows × 9 columns</p>\n",
       "</div>"
      ],
      "text/plain": [
       "                                                    title  \\\n",
       "bookID                                                      \n",
       "41865                             Twilight (Twilight  #1)   \n",
       "5907                  The Hobbit  or There and Back Again   \n",
       "5107                               The Catcher in the Rye   \n",
       "960                  Angels & Demons (Robert Langdon  #1)   \n",
       "5       Harry Potter and the Prisoner of Azkaban (Harr...   \n",
       "...                                                   ...   \n",
       "17045   American Government: Continuity and Change  Te...   \n",
       "10939                                 Ya Sé Que Te Quiero   \n",
       "11062          Roald Dahl: The Storyteller (Famous Lives)   \n",
       "11069   Les Nouvelles Recettes irrésistibles de Roald ...   \n",
       "12712   Brodie's notes on Aldous Huxley's brave new world   \n",
       "\n",
       "                                authors  average_rating language_code  \\\n",
       "bookID                                                                  \n",
       "41865                   Stephenie Meyer            3.59           eng   \n",
       "5907                     J.R.R. Tolkien            4.27           eng   \n",
       "5107                      J.D. Salinger            3.80           eng   \n",
       "960                           Dan Brown            3.89           eng   \n",
       "5            J.K. Rowling/Mary GrandPré            4.56           eng   \n",
       "...                                 ...             ...           ...   \n",
       "17045   Karen  O'Connor/Larry J. Sabato            2.83           eng   \n",
       "10939    Billy Crystal/Elizabeth Sayles            4.19           spa   \n",
       "11062                        Jason Hook            4.06           eng   \n",
       "11069          Roald Dahl/Quentin Blake            4.14           fre   \n",
       "12712                    Graham Handley            0.00           eng   \n",
       "\n",
       "        num_pages  ratings_count  text_reviews_count publication_date  \\\n",
       "bookID                                                                  \n",
       "41865       501.0      4597666.0             94265.0         9/6/2006   \n",
       "5907        366.0      2530894.0             32871.0        8/15/2002   \n",
       "5107        277.0      2457092.0             43499.0        1/30/2001   \n",
       "960         736.0      2418736.0             21303.0         4/1/2006   \n",
       "5           435.0      2339585.0             36325.0         5/1/2004   \n",
       "...           ...            ...                 ...              ...   \n",
       "17045      1088.0            0.0                 0.0        5/26/2005   \n",
       "10939        40.0            0.0                 0.0        4/11/2006   \n",
       "11062        48.0            0.0                 0.0        8/12/2004   \n",
       "11069        64.0            0.0                 0.0        9/18/2002   \n",
       "12712        71.0            0.0                 0.0        8/20/1992   \n",
       "\n",
       "                        publisher;;;  \n",
       "bookID                                \n",
       "41865   Little  Brown and Company;;;  \n",
       "5907             Houghton Mifflin;;;  \n",
       "5107               Back Bay Books;;;  \n",
       "960                  Pocket Books;;;  \n",
       "5                 Scholastic Inc.;;;  \n",
       "...                              ...  \n",
       "17045    Longman Publishing Group;;;  \n",
       "10939                        Rayo;;;  \n",
       "11062              Hodder Wayland;;;  \n",
       "11069          Gallimard Jeunesse;;;  \n",
       "12712                   Macmillan;;;  \n",
       "\n",
       "[11094 rows x 9 columns]"
      ]
     },
     "execution_count": 60,
     "metadata": {},
     "output_type": "execute_result"
    }
   ],
   "source": [
    "df.sort_values(by=['ratings_count'], ascending=False)"
   ]
  },
  {
   "cell_type": "code",
   "execution_count": null,
   "id": "e9fc2366",
   "metadata": {},
   "outputs": [],
   "source": [
    "#Creat a matrix to see the correlation coeffcient between some attributes"
   ]
  },
  {
   "cell_type": "code",
   "execution_count": 69,
   "id": "08eb19e0",
   "metadata": {},
   "outputs": [
    {
     "name": "stdout",
     "output_type": "stream",
     "text": [
      "                    average_rating  num_pages  ratings_count  \\\n",
      "average_rating            1.000000   0.151799       0.038277   \n",
      "num_pages                 0.151799   1.000000       0.034269   \n",
      "ratings_count             0.038277   0.034269       1.000000   \n",
      "text_reviews_count        0.033522   0.036880       0.865970   \n",
      "\n",
      "                    text_reviews_count  \n",
      "average_rating                0.033522  \n",
      "num_pages                     0.036880  \n",
      "ratings_count                 0.865970  \n",
      "text_reviews_count            1.000000  \n"
     ]
    }
   ],
   "source": [
    "corr_matrix = df[['average_rating','num_pages','ratings_count','text_reviews_count']].corr()\n",
    "print(corr_matrix)"
   ]
  },
  {
   "cell_type": "code",
   "execution_count": 70,
   "id": "0d02c1f6",
   "metadata": {},
   "outputs": [
    {
     "data": {
      "text/plain": [
       "<AxesSubplot:>"
      ]
     },
     "execution_count": 70,
     "metadata": {},
     "output_type": "execute_result"
    },
    {
     "data": {
      "image/png": "[encoded data removed]",
      "text/plain": [
       "<Figure size 432x288 with 2 Axes>"
      ]
     },
     "metadata": {
      "needs_background": "light"
     },
     "output_type": "display_data"
    }
   ],
   "source": [
    "sns.heatmap(corr_matrix,annot=True)"
   ]
  },
  {
   "cell_type": "code",
   "execution_count": null,
   "id": "31262569",
   "metadata": {},
   "outputs": [],
   "source": [
    "#There is a strong relation between the number of text reviews and number of ratings. \n",
    "#I would like to create the graph to see if the diffences in the number of text reviews and ratings affect on the average rating"
   ]
  },
  {
   "cell_type": "code",
   "execution_count": 76,
   "id": "7c287f3f",
   "metadata": {},
   "outputs": [
    {
     "data": {
      "image/png": "[encoded data removed]",
      "text/plain": [
       "<Figure size 432x288 with 1 Axes>"
      ]
     },
     "metadata": {
      "needs_background": "light"
     },
     "output_type": "display_data"
    },
    {
     "name": "stdout",
     "output_type": "stream",
     "text": [
      "The avarage rating of books having more than 10000 text reviews is:\n",
      "4.052553191489362\n"
     ]
    }
   ],
   "source": [
    "#For the books having more than 10000 text reviews\n",
    "df_text_review1 = df[df['text_reviews_count']>10000]\n",
    "df_text_review1.plot(x='text_reviews_count', y='average_rating',kind='scatter')\n",
    "plt.show()\n",
    "print('The avarage rating of books having more than 10000 text reviews is:')\n",
    "print(df_text_review1['average_rating'].mean())"
   ]
  },
  {
   "cell_type": "code",
   "execution_count": 77,
   "id": "ff1d91b6",
   "metadata": {},
   "outputs": [
    {
     "data": {
      "image/png": "[encoded data removed]",
      "text/plain": [
       "<Figure size 432x288 with 1 Axes>"
      ]
     },
     "metadata": {
      "needs_background": "light"
     },
     "output_type": "display_data"
    },
    {
     "name": "stdout",
     "output_type": "stream",
     "text": [
      "The avarage rating of books having less than 10000 text reviews is:\n",
      "3.9340218181817934\n"
     ]
    }
   ],
   "source": [
    "#For the books having less than 10000 text reviews\n",
    "df_text_review2 = df[df['text_reviews_count']<=10000]\n",
    "df_text_review2.plot(x='text_reviews_count', y='average_rating',kind='scatter')\n",
    "plt.show()\n",
    "print('The avarage rating of books having less than 10000 text reviews is:')\n",
    "print(df_text_review2['average_rating'].mean())"
   ]
  },
  {
   "cell_type": "code",
   "execution_count": 84,
   "id": "92e8aa8b",
   "metadata": {},
   "outputs": [
    {
     "data": {
      "image/png": "[encoded data removed]",
      "text/plain": [
       "<Figure size 432x288 with 1 Axes>"
      ]
     },
     "metadata": {
      "needs_background": "light"
     },
     "output_type": "display_data"
    },
    {
     "name": "stdout",
     "output_type": "stream",
     "text": [
      "The avarage rating of books having more than 100000 ratings is:\n",
      "4.02525568181818\n"
     ]
    }
   ],
   "source": [
    "#For the books having more than 100000 ratings\n",
    "df_rating1 = df[df['ratings_count']>100000]\n",
    "df_rating1.plot(x='ratings_count', y='average_rating',kind='scatter')\n",
    "plt.show()\n",
    "print('The avarage rating of books having more than 100000 ratings is:')\n",
    "print(df_rating1['average_rating'].mean())"
   ]
  },
  {
   "cell_type": "code",
   "execution_count": 85,
   "id": "42972918",
   "metadata": {},
   "outputs": [
    {
     "data": {
      "image/png": "[encoded data removed]",
      "text/plain": [
       "<Figure size 432x288 with 1 Axes>"
      ]
     },
     "metadata": {
      "needs_background": "light"
     },
     "output_type": "display_data"
    },
    {
     "name": "stdout",
     "output_type": "stream",
     "text": [
      "The avarage rating of books having less than 100000 ratings is:\n",
      "3.932069447030331\n"
     ]
    }
   ],
   "source": [
    "#For the books having less than 100000 ratings\n",
    "df_rating2 = df[df['ratings_count']<=100000]\n",
    "df_rating2.plot(x='ratings_count', y='average_rating',kind='scatter')\n",
    "plt.show()\n",
    "print('The avarage rating of books having less than 100000 ratings is:')\n",
    "print(df_rating2['average_rating'].mean())"
   ]
  },
  {
   "cell_type": "markdown",
   "id": "29df4528",
   "metadata": {},
   "source": [
    "#### Feature Engineering "
   ]
  },
  {
   "cell_type": "code",
   "execution_count": null,
   "id": "40272196",
   "metadata": {},
   "outputs": [],
   "source": [
    "#Change the publication date to float"
   ]
  },
  {
   "cell_type": "code",
   "execution_count": 125,
   "id": "4b7de511",
   "metadata": {},
   "outputs": [],
   "source": [
    "df['publication_date']=pd.to_datetime(df['publication_date'],format = '%m/%d/%Y',errors='coerce')\n",
    "df['publication_date'] = pd.to_numeric(df['publication_date'])"
   ]
  },
  {
   "cell_type": "code",
   "execution_count": null,
   "id": "f90394fa",
   "metadata": {},
   "outputs": [],
   "source": [
    "#Drop column"
   ]
  },
  {
   "cell_type": "code",
   "execution_count": 144,
   "id": "65ca7b2a",
   "metadata": {},
   "outputs": [],
   "source": [
    "df_processed = df.drop(['title','authors','language_code','publisher;;;'],axis=1)"
   ]
  },
  {
   "cell_type": "markdown",
   "id": "7d8392a8",
   "metadata": {},
   "source": [
    "#### Prediction models"
   ]
  },
  {
   "cell_type": "code",
   "execution_count": null,
   "id": "967df5ea",
   "metadata": {},
   "outputs": [],
   "source": [
    "#Create train data and test data"
   ]
  },
  {
   "cell_type": "code",
   "execution_count": 126,
   "id": "52c2fa34",
   "metadata": {},
   "outputs": [],
   "source": [
    "from sklearn.model_selection import train_test_split"
   ]
  },
  {
   "cell_type": "code",
   "execution_count": 145,
   "id": "1c9383ef",
   "metadata": {},
   "outputs": [],
   "source": [
    "df_train, df_test = train_test_split(df_processed,test_size = 0.2)"
   ]
  },
  {
   "cell_type": "code",
   "execution_count": 146,
   "id": "1fa2f225",
   "metadata": {},
   "outputs": [
    {
     "data": {
      "text/plain": [
       "8875"
      ]
     },
     "execution_count": 146,
     "metadata": {},
     "output_type": "execute_result"
    }
   ],
   "source": [
    "len(df_train)"
   ]
  },
  {
   "cell_type": "code",
   "execution_count": 147,
   "id": "134acc30",
   "metadata": {},
   "outputs": [
    {
     "data": {
      "text/plain": [
       "2219"
      ]
     },
     "execution_count": 147,
     "metadata": {},
     "output_type": "execute_result"
    }
   ],
   "source": [
    "len(df_test)"
   ]
  },
  {
   "cell_type": "code",
   "execution_count": 148,
   "id": "6f2404fd",
   "metadata": {},
   "outputs": [
    {
     "name": "stdout",
     "output_type": "stream",
     "text": [
      "3.9350261402559688\n",
      "3.9338974647887146\n",
      "3.939540333483556\n"
     ]
    }
   ],
   "source": [
    "print(df_processed.average_rating.mean())\n",
    "print(df_train.average_rating.mean())\n",
    "print(df_test.average_rating.mean())"
   ]
  },
  {
   "cell_type": "code",
   "execution_count": 149,
   "id": "1bc35480",
   "metadata": {},
   "outputs": [
    {
     "name": "stdout",
     "output_type": "stream",
     "text": [
      "17987.499549305932\n",
      "17737.235154929578\n",
      "18988.444344299234\n"
     ]
    }
   ],
   "source": [
    "print(df_processed.ratings_count.mean())\n",
    "print(df_train.ratings_count.mean())\n",
    "print(df_test.ratings_count.mean())"
   ]
  },
  {
   "cell_type": "code",
   "execution_count": 150,
   "id": "463c00b0",
   "metadata": {},
   "outputs": [
    {
     "name": "stdout",
     "output_type": "stream",
     "text": [
      "543.3043086352984\n",
      "533.1592112676057\n",
      "583.8801261829653\n"
     ]
    }
   ],
   "source": [
    "print(df.text_reviews_count.mean())\n",
    "print(df_train.text_reviews_count.mean())\n",
    "print(df_test.text_reviews_count.mean())"
   ]
  },
  {
   "cell_type": "code",
   "execution_count": 151,
   "id": "a288ce90",
   "metadata": {},
   "outputs": [],
   "source": [
    "X_train = df_train.loc[:,['num_pages','ratings_count','text_reviews_count','publication_date']].values\n",
    "y_train = df_train.average_rating.values"
   ]
  },
  {
   "cell_type": "code",
   "execution_count": 152,
   "id": "7b4b9de0",
   "metadata": {},
   "outputs": [],
   "source": [
    "X_test = df_test.loc[:,['num_pages','ratings_count','text_reviews_count','publication_date']].values\n",
    "y_test = df_test.average_rating.values"
   ]
  },
  {
   "cell_type": "code",
   "execution_count": null,
   "id": "de0305d1",
   "metadata": {},
   "outputs": [],
   "source": [
    "#Linear Regression Model"
   ]
  },
  {
   "cell_type": "code",
   "execution_count": 153,
   "id": "1b1c35f7",
   "metadata": {},
   "outputs": [],
   "source": [
    "from sklearn.linear_model import LinearRegression"
   ]
  },
  {
   "cell_type": "code",
   "execution_count": 169,
   "id": "8c40f7f5",
   "metadata": {},
   "outputs": [
    {
     "data": {
      "text/plain": [
       "LinearRegression()"
      ]
     },
     "execution_count": 169,
     "metadata": {},
     "output_type": "execute_result"
    }
   ],
   "source": [
    "lr_model = LinearRegression()\n",
    "lr_model.fit(X_train,y_train)"
   ]
  },
  {
   "cell_type": "code",
   "execution_count": 170,
   "id": "4f9710c3",
   "metadata": {},
   "outputs": [],
   "source": [
    "y_test_predicted_lr = lr_model.predict(X_test)"
   ]
  },
  {
   "cell_type": "code",
   "execution_count": 172,
   "id": "67f3d63b",
   "metadata": {},
   "outputs": [],
   "source": [
    "from sklearn.metrics import mean_absolute_error, mean_squared_error, r2_score"
   ]
  },
  {
   "cell_type": "code",
   "execution_count": 175,
   "id": "f608bb36",
   "metadata": {},
   "outputs": [
    {
     "name": "stdout",
     "output_type": "stream",
     "text": [
      "Linear Regression Report\n",
      "MAE: 0.23106869072959665\n",
      "MSE: 0.1223767921636316\n",
      "R^2: 0.02099389054295997\n"
     ]
    }
   ],
   "source": [
    "print('Linear Regression Report')\n",
    "print('MAE: ' + str(mean_absolute_error(y_test,y_test_predicted_lr)))\n",
    "print('MSE: ' + str(mean_squared_error(y_test,y_test_predicted_lr)))\n",
    "print('R^2: ' + str(r2_score(y_test,y_test_predicted_lr)))"
   ]
  },
  {
   "cell_type": "code",
   "execution_count": null,
   "id": "c099af2b",
   "metadata": {},
   "outputs": [],
   "source": [
    "#Decision Tree Model"
   ]
  },
  {
   "cell_type": "code",
   "execution_count": 176,
   "id": "1c954d03",
   "metadata": {},
   "outputs": [],
   "source": [
    "from sklearn.tree import DecisionTreeRegressor"
   ]
  },
  {
   "cell_type": "code",
   "execution_count": 177,
   "id": "a04d2fc3",
   "metadata": {},
   "outputs": [
    {
     "data": {
      "text/plain": [
       "DecisionTreeRegressor()"
      ]
     },
     "execution_count": 177,
     "metadata": {},
     "output_type": "execute_result"
    }
   ],
   "source": [
    "DT_reg = DecisionTreeRegressor()\n",
    "DT_reg.fit(X_train,y_train)"
   ]
  },
  {
   "cell_type": "code",
   "execution_count": 178,
   "id": "eb89d4f8",
   "metadata": {},
   "outputs": [],
   "source": [
    "y_test_predicted_dt = DT_reg.predict(X_test)"
   ]
  },
  {
   "cell_type": "code",
   "execution_count": 179,
   "id": "8baf04ea",
   "metadata": {},
   "outputs": [
    {
     "name": "stdout",
     "output_type": "stream",
     "text": [
      "Decision Tree Report\n",
      "MAE: 0.3045042812077512\n",
      "MSE: 0.18672639702568725\n",
      "R^2: -0.49379862188752255\n"
     ]
    }
   ],
   "source": [
    "print('Decision Tree Report')\n",
    "print('MAE: ' + str(mean_absolute_error(y_test,y_test_predicted_dt)))\n",
    "print('MSE: ' + str(mean_squared_error(y_test,y_test_predicted_dt)))\n",
    "print('R^2: ' + str(r2_score(y_test,y_test_predicted_dt)))"
   ]
  },
  {
   "cell_type": "code",
   "execution_count": null,
   "id": "8b3b302f",
   "metadata": {},
   "outputs": [],
   "source": [
    "#Random Forest Regression Model"
   ]
  },
  {
   "cell_type": "code",
   "execution_count": 180,
   "id": "92b34448",
   "metadata": {},
   "outputs": [],
   "source": [
    "from sklearn.ensemble import RandomForestRegressor"
   ]
  },
  {
   "cell_type": "code",
   "execution_count": 181,
   "id": "49106555",
   "metadata": {},
   "outputs": [
    {
     "data": {
      "text/plain": [
       "RandomForestRegressor()"
      ]
     },
     "execution_count": 181,
     "metadata": {},
     "output_type": "execute_result"
    }
   ],
   "source": [
    "RF_reg = RandomForestRegressor()\n",
    "RF_reg.fit(X_train,y_train)"
   ]
  },
  {
   "cell_type": "code",
   "execution_count": 182,
   "id": "79ab567f",
   "metadata": {},
   "outputs": [],
   "source": [
    "y_test_predicted_rf = RF_reg.predict(X_test)"
   ]
  },
  {
   "cell_type": "code",
   "execution_count": 183,
   "id": "bc02e2ae",
   "metadata": {},
   "outputs": [
    {
     "name": "stdout",
     "output_type": "stream",
     "text": [
      "Random Forest Regressor Report\n",
      "MAE: 0.23315326212293547\n",
      "MSE: 0.11278188891795406\n",
      "R^2: 0.09775247140694743\n"
     ]
    }
   ],
   "source": [
    "print('Random Forest Regressor Report')\n",
    "print('MAE: ' + str(mean_absolute_error(y_test,y_test_predicted_rf)))\n",
    "print('MSE: ' + str(mean_squared_error(y_test,y_test_predicted_rf)))\n",
    "print('R^2: ' + str(r2_score(y_test,y_test_predicted_rf)))"
   ]
  },
  {
   "cell_type": "code",
   "execution_count": null,
   "id": "1e9e4cfa",
   "metadata": {},
   "outputs": [],
   "source": [
    "# Lasso Regression Model"
   ]
  },
  {
   "cell_type": "code",
   "execution_count": 184,
   "id": "61c44b54",
   "metadata": {},
   "outputs": [],
   "source": [
    "from sklearn.linear_model import Lasso"
   ]
  },
  {
   "cell_type": "code",
   "execution_count": 185,
   "id": "8a264d4b",
   "metadata": {},
   "outputs": [
    {
     "data": {
      "text/plain": [
       "Lasso()"
      ]
     },
     "execution_count": 185,
     "metadata": {},
     "output_type": "execute_result"
    }
   ],
   "source": [
    "Lasso_reg = Lasso()\n",
    "Lasso_reg.fit(X_train,y_train)"
   ]
  },
  {
   "cell_type": "code",
   "execution_count": 186,
   "id": "211c7b1c",
   "metadata": {},
   "outputs": [],
   "source": [
    "y_test_predicted_las = Lasso_reg.predict(X_test)"
   ]
  },
  {
   "cell_type": "code",
   "execution_count": 187,
   "id": "204484a8",
   "metadata": {
    "scrolled": true
   },
   "outputs": [
    {
     "name": "stdout",
     "output_type": "stream",
     "text": [
      "Lasso Regressor Report\n",
      "MAE: 0.23111856437051342\n",
      "MSE: 0.12241609506417618\n",
      "R^2: 0.020679469981085163\n"
     ]
    }
   ],
   "source": [
    "print('Lasso Regressor Report')\n",
    "print('MAE: ' + str(mean_absolute_error(y_test,y_test_predicted_las)))\n",
    "print('MSE: ' + str(mean_squared_error(y_test,y_test_predicted_las)))\n",
    "print('R^2: ' + str(r2_score(y_test,y_test_predicted_las)))"
   ]
  },
  {
   "cell_type": "code",
   "execution_count": null,
   "id": "60193642",
   "metadata": {},
   "outputs": [],
   "source": [
    "#From my oppinion, the Random Forest Regression model would be a better fit to the data"
   ]
  },
  {
   "cell_type": "markdown",
   "id": "f159a799",
   "metadata": {},
   "source": [
    "Training models without outliers"
   ]
  },
  {
   "cell_type": "code",
   "execution_count": null,
   "id": "2dc18b30",
   "metadata": {},
   "outputs": [],
   "source": [
    "#From some graphs above, we can see there are some outliers in the attribute 'ratings_count'"
   ]
  },
  {
   "cell_type": "code",
   "execution_count": 188,
   "id": "14e7706d",
   "metadata": {},
   "outputs": [
    {
     "data": {
      "text/plain": [
       "352"
      ]
     },
     "execution_count": 188,
     "metadata": {},
     "output_type": "execute_result"
    }
   ],
   "source": [
    "top_rated_books = df[df['ratings_count'] > 100000]\n",
    "len(top_rated_books)"
   ]
  },
  {
   "cell_type": "code",
   "execution_count": 189,
   "id": "f7de57ba",
   "metadata": {},
   "outputs": [
    {
     "data": {
      "text/plain": [
       "10742"
      ]
     },
     "execution_count": 189,
     "metadata": {},
     "output_type": "execute_result"
    }
   ],
   "source": [
    "other_rated_books = df[df['ratings_count'] <= 100000]\n",
    "len(other_rated_books)"
   ]
  },
  {
   "cell_type": "code",
   "execution_count": null,
   "id": "33230d21",
   "metadata": {},
   "outputs": [],
   "source": [
    "#Remove outliers from data"
   ]
  },
  {
   "cell_type": "code",
   "execution_count": 190,
   "id": "6c56aace",
   "metadata": {},
   "outputs": [],
   "source": [
    "df_train_no_outliers = df_train[df_train['ratings_count'] <= 100000]"
   ]
  },
  {
   "cell_type": "code",
   "execution_count": 191,
   "id": "ba0c34c5",
   "metadata": {},
   "outputs": [],
   "source": [
    "df_test_no_outliers = df_test[df_test['ratings_count'] <= 100000]"
   ]
  },
  {
   "cell_type": "code",
   "execution_count": 192,
   "id": "2d99d2f8",
   "metadata": {},
   "outputs": [],
   "source": [
    "X_train_no = df_train_no_outliers.loc[:,['num_pages','ratings_count','text_reviews_count','publication_date']].values\n",
    "y_train_no = df_train_no_outliers.average_rating.values"
   ]
  },
  {
   "cell_type": "code",
   "execution_count": 193,
   "id": "6d9234c7",
   "metadata": {},
   "outputs": [],
   "source": [
    "X_test_no = df_test_no_outliers.loc[:,['num_pages','ratings_count','text_reviews_count','publication_date']].values\n",
    "y_test_no = df_test_no_outliers.average_rating.values"
   ]
  },
  {
   "cell_type": "code",
   "execution_count": null,
   "id": "0d0d6d3c",
   "metadata": {},
   "outputs": [],
   "source": [
    "#Random Forest Regression Model without ouliers"
   ]
  },
  {
   "cell_type": "code",
   "execution_count": 198,
   "id": "1eefd125",
   "metadata": {},
   "outputs": [
    {
     "data": {
      "text/plain": [
       "RandomForestRegressor()"
      ]
     },
     "execution_count": 198,
     "metadata": {},
     "output_type": "execute_result"
    }
   ],
   "source": [
    "RF_reg_no = RandomForestRegressor()\n",
    "RF_reg_no.fit(X_train_no,y_train_no)"
   ]
  },
  {
   "cell_type": "code",
   "execution_count": 199,
   "id": "a20eaac7",
   "metadata": {},
   "outputs": [],
   "source": [
    "y_test_predicted_rf_no = RF_reg_no.predict(X_test_no)"
   ]
  },
  {
   "cell_type": "code",
   "execution_count": 200,
   "id": "844cffe6",
   "metadata": {
    "scrolled": true
   },
   "outputs": [
    {
     "name": "stdout",
     "output_type": "stream",
     "text": [
      "Random Forest Regression Report without outliers\n",
      "MAE: 0.23359916510611742\n",
      "MSE: 0.11146891918934361\n",
      "R^2: 0.13058680083653218\n"
     ]
    }
   ],
   "source": [
    "print('Random Forest Regression Report without outliers')\n",
    "print('MAE: ' + str(mean_absolute_error(y_test_no,y_test_predicted_rf_no)))\n",
    "print('MSE: ' + str(mean_squared_error(y_test_no,y_test_predicted_rf_no)))\n",
    "print('R^2: ' + str(r2_score(y_test_no,y_test_predicted_rf_no)))"
   ]
  },
  {
   "cell_type": "code",
   "execution_count": null,
   "id": "0696df17",
   "metadata": {},
   "outputs": [],
   "source": [
    "#Better MSE values"
   ]
  }
 ],
 "metadata": {
  "kernelspec": {
   "display_name": "Python 3 (ipykernel)",
   "language": "python",
   "name": "python3"
  },
  "language_info": {
   "codemirror_mode": {
    "name": "ipython",
    "version": 3
   },
   "file_extension": ".py",
   "mimetype": "text/x-python",
   "name": "python",
   "nbconvert_exporter": "python",
   "pygments_lexer": "ipython3",
   "version": "3.9.7"
  }
 },
 "nbformat": 4,
 "nbformat_minor": 5
}
